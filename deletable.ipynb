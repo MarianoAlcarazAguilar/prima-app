{
 "cells": [
  {
   "cell_type": "code",
   "execution_count": 12,
   "id": "cf8da6d8-1cf4-484c-ba0b-958c05208c91",
   "metadata": {},
   "outputs": [],
   "source": [
    "import os\n",
    "import numpy as np\n",
    "import pandas as pd\n",
    "from datetime import datetime, timezone\n",
    "from my_apis.mb_connection import MetabaseConnection\n",
    "from my_apis.sheets_functions import SheetsFunctions\n",
    "from my_apis.sf_connection import SalesforceConnection, SalesforceFunctions"
   ]
  },
  {
   "cell_type": "code",
   "execution_count": 13,
   "id": "03ed23b8-8602-4095-8677-73c4201f1fc0",
   "metadata": {},
   "outputs": [],
   "source": [
    "sf_credentials = '~/.keys/sf_credentials.json'\n",
    "mb_credentials = '~/.keys/mb_credentials.json'\n",
    "\n",
    "sfc = SalesforceConnection(os.path.expanduser(sf_credentials))\n",
    "mbc = MetabaseConnection(os.path.expanduser(mb_credentials))\n",
    "sff = SalesforceFunctions(sfc)"
   ]
  },
  {
   "cell_type": "code",
   "execution_count": 9,
   "id": "aa84456d-69c6-4602-840b-914d2702d253",
   "metadata": {},
   "outputs": [],
   "source": [
    "new_entry = pd.read_excel('templates/auxiliar_new_entry.xlsx')"
   ]
  },
  {
   "cell_type": "code",
   "execution_count": 17,
   "id": "2ce5ead4-4223-4b3b-b709-48ed5444ff0c",
   "metadata": {},
   "outputs": [
    {
     "data": {
      "text/html": [
       "<div>\n",
       "<style scoped>\n",
       "    .dataframe tbody tr th:only-of-type {\n",
       "        vertical-align: middle;\n",
       "    }\n",
       "\n",
       "    .dataframe tbody tr th {\n",
       "        vertical-align: top;\n",
       "    }\n",
       "\n",
       "    .dataframe thead th {\n",
       "        text-align: right;\n",
       "    }\n",
       "</style>\n",
       "<table border=\"1\" class=\"dataframe\">\n",
       "  <thead>\n",
       "    <tr style=\"text-align: right;\">\n",
       "      <th></th>\n",
       "      <th>available_fields</th>\n",
       "    </tr>\n",
       "  </thead>\n",
       "  <tbody>\n",
       "    <tr>\n",
       "      <th>0</th>\n",
       "      <td>Id</td>\n",
       "    </tr>\n",
       "    <tr>\n",
       "      <th>1</th>\n",
       "      <td>IsDeleted</td>\n",
       "    </tr>\n",
       "    <tr>\n",
       "      <th>2</th>\n",
       "      <td>Name</td>\n",
       "    </tr>\n",
       "    <tr>\n",
       "      <th>3</th>\n",
       "      <td>CurrencyIsoCode</td>\n",
       "    </tr>\n",
       "    <tr>\n",
       "      <th>4</th>\n",
       "      <td>CreatedDate</td>\n",
       "    </tr>\n",
       "    <tr>\n",
       "      <th>5</th>\n",
       "      <td>CreatedById</td>\n",
       "    </tr>\n",
       "    <tr>\n",
       "      <th>6</th>\n",
       "      <td>LastModifiedDate</td>\n",
       "    </tr>\n",
       "    <tr>\n",
       "      <th>7</th>\n",
       "      <td>LastModifiedById</td>\n",
       "    </tr>\n",
       "    <tr>\n",
       "      <th>8</th>\n",
       "      <td>SystemModstamp</td>\n",
       "    </tr>\n",
       "    <tr>\n",
       "      <th>9</th>\n",
       "      <td>LastActivityDate</td>\n",
       "    </tr>\n",
       "    <tr>\n",
       "      <th>10</th>\n",
       "      <td>account__c</td>\n",
       "    </tr>\n",
       "    <tr>\n",
       "      <th>11</th>\n",
       "      <td>product__c</td>\n",
       "    </tr>\n",
       "    <tr>\n",
       "      <th>12</th>\n",
       "      <td>category__c</td>\n",
       "    </tr>\n",
       "    <tr>\n",
       "      <th>13</th>\n",
       "      <td>subcategory__c</td>\n",
       "    </tr>\n",
       "  </tbody>\n",
       "</table>\n",
       "</div>"
      ],
      "text/plain": [
       "    available_fields\n",
       "0                 Id\n",
       "1          IsDeleted\n",
       "2               Name\n",
       "3    CurrencyIsoCode\n",
       "4        CreatedDate\n",
       "5        CreatedById\n",
       "6   LastModifiedDate\n",
       "7   LastModifiedById\n",
       "8     SystemModstamp\n",
       "9   LastActivityDate\n",
       "10        account__c\n",
       "11        product__c\n",
       "12       category__c\n",
       "13    subcategory__c"
      ]
     },
     "execution_count": 17,
     "metadata": {},
     "output_type": "execute_result"
    }
   ],
   "source": [
    "sfc.get_available_fields('manufacturing_product__c')"
   ]
  },
  {
   "cell_type": "code",
   "execution_count": 15,
   "id": "b8958aea-1d3a-4acd-9766-c426c5a77f01",
   "metadata": {},
   "outputs": [
    {
     "data": {
      "text/plain": [
       "['0013t00002jYeSDAA0', '0013t00002ge52kAAA']"
      ]
     },
     "execution_count": 15,
     "metadata": {},
     "output_type": "execute_result"
    }
   ],
   "source": [
    "# Sacamos los productos asociados al mp\n",
    "mps_ids = new_entry.mp_sf_id.unique().tolist()\n",
    "query = '''\n",
    "\n",
    "'''\n",
    "mps_ids"
   ]
  },
  {
   "cell_type": "code",
   "execution_count": null,
   "id": "73b5e9be-7bba-436b-b797-676fc4df42ac",
   "metadata": {},
   "outputs": [],
   "source": []
  }
 ],
 "metadata": {
  "kernelspec": {
   "display_name": "Python 3 (ipykernel)",
   "language": "python",
   "name": "python3"
  },
  "language_info": {
   "codemirror_mode": {
    "name": "ipython",
    "version": 3
   },
   "file_extension": ".py",
   "mimetype": "text/x-python",
   "name": "python",
   "nbconvert_exporter": "python",
   "pygments_lexer": "ipython3",
   "version": "3.11.5"
  }
 },
 "nbformat": 4,
 "nbformat_minor": 5
}
