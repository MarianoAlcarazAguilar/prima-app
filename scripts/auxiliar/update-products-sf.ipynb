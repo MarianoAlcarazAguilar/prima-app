{
 "cells": [
  {
   "cell_type": "code",
   "execution_count": 2,
   "id": "cf8da6d8-1cf4-484c-ba0b-958c05208c91",
   "metadata": {},
   "outputs": [],
   "source": [
    "import os\n",
    "import numpy as np\n",
    "import pandas as pd\n",
    "from datetime import datetime, timezone\n",
    "from my_apis.mb_connection import MetabaseConnection\n",
    "from my_apis.sheets_functions import SheetsFunctions\n",
    "from my_apis.sf_connection import SalesforceConnection, SalesforceFunctions"
   ]
  },
  {
   "cell_type": "code",
   "execution_count": 3,
   "id": "03ed23b8-8602-4095-8677-73c4201f1fc0",
   "metadata": {},
   "outputs": [],
   "source": [
    "sf_credentials = '~/.keys/sf_credentials.json'\n",
    "mb_credentials = '~/.keys/mb_credentials.json'\n",
    "\n",
    "sfc = SalesforceConnection(os.path.expanduser(sf_credentials))\n",
    "mbc = MetabaseConnection(os.path.expanduser(mb_credentials))\n",
    "sff = SalesforceFunctions(sfc)"
   ]
  },
  {
   "cell_type": "code",
   "execution_count": 4,
   "id": "aa84456d-69c6-4602-840b-914d2702d253",
   "metadata": {},
   "outputs": [],
   "source": [
    "new_entry = pd.read_excel('templates/auxiliar_new_entry.xlsx')[['mp_sf_id', 'category', 'subcategory']]"
   ]
  },
  {
   "cell_type": "code",
   "execution_count": 5,
   "id": "0fa2217c-e495-4384-ae6a-320ef5eea9fe",
   "metadata": {},
   "outputs": [],
   "source": [
    "# 0. Sacamos todos los productos de manufactura\n",
    "manufacturing_product_type = sff.get_record_type_id('Product2', 'Manufacturing')\n",
    "\n",
    "query = f'''\n",
    "select Id, Name, manufacturing_product_category__c\n",
    "from Product2\n",
    "where RecordTypeId = '{manufacturing_product_type}'\n",
    "'''\n",
    "products = sfc.extract_data(query)"
   ]
  },
  {
   "cell_type": "code",
   "execution_count": 6,
   "id": "2ce5ead4-4223-4b3b-b709-48ed5444ff0c",
   "metadata": {},
   "outputs": [],
   "source": [
    "# 1. sacar los productos que tiene asignados el mp\n",
    "mps_ids = tuple(new_entry.mp_sf_id.unique().tolist())\n",
    "\n",
    "if len(mps_ids) == 1:\n",
    "    where_clause = f\"where account__c = '{mps_ids[0]}'\"\n",
    "else:\n",
    "    where_clause = f'where account__c in {mps_ids}'\n",
    "    \n",
    "\n",
    "query = f'''\n",
    "select account__c, category__c, subcategory__c, product__c\n",
    "from manufacturing_product__c\n",
    "{where_clause}\n",
    "'''\n",
    "\n",
    "try:\n",
    "    current_products = sfc.extract_data(query)\n",
    "except KeyError:\n",
    "    current_products = pd.DataFrame(columns=['account__c', 'subcategory__c'])"
   ]
  },
  {
   "cell_type": "code",
   "execution_count": 7,
   "id": "b8958aea-1d3a-4acd-9766-c426c5a77f01",
   "metadata": {},
   "outputs": [
    {
     "data": {
      "text/html": [
       "<div>\n",
       "<style scoped>\n",
       "    .dataframe tbody tr th:only-of-type {\n",
       "        vertical-align: middle;\n",
       "    }\n",
       "\n",
       "    .dataframe tbody tr th {\n",
       "        vertical-align: top;\n",
       "    }\n",
       "\n",
       "    .dataframe thead th {\n",
       "        text-align: right;\n",
       "    }\n",
       "</style>\n",
       "<table border=\"1\" class=\"dataframe\">\n",
       "  <thead>\n",
       "    <tr style=\"text-align: right;\">\n",
       "      <th></th>\n",
       "      <th>account__c</th>\n",
       "      <th>product__c</th>\n",
       "    </tr>\n",
       "  </thead>\n",
       "  <tbody>\n",
       "    <tr>\n",
       "      <th>0</th>\n",
       "      <td>0013t00002iPh8uAAC</td>\n",
       "      <td>01tTP0000038goMYAQ</td>\n",
       "    </tr>\n",
       "  </tbody>\n",
       "</table>\n",
       "</div>"
      ],
      "text/plain": [
       "           account__c          product__c\n",
       "0  0013t00002iPh8uAAC  01tTP0000038goMYAQ"
      ]
     },
     "execution_count": 7,
     "metadata": {},
     "output_type": "execute_result"
    }
   ],
   "source": [
    "# 3. encontramos los productos que estén en new_entry y que no estén en current_products\n",
    "(\n",
    "    new_entry\n",
    "    .merge(current_products, left_on=['subcategory', 'mp_sf_id'], right_on=['subcategory__c', 'account__c'], how='left')\n",
    "    .query('account__c.isna()')\n",
    "    .merge(products, left_on='subcategory', right_on='Name')\n",
    "    [['mp_sf_id', 'Id']]\n",
    "    .rename({'mp_sf_id':'account__c', 'Id':'product__c'}, axis=1)\n",
    "    #.pipe(lambda df: sff.add_multiple_records(df, 'manufacturing_product__c'))\n",
    ")"
   ]
  },
  {
   "cell_type": "code",
   "execution_count": null,
   "id": "571ab533-f470-4a5b-ab3f-74c3198c67d4",
   "metadata": {},
   "outputs": [],
   "source": []
  }
 ],
 "metadata": {
  "kernelspec": {
   "display_name": "Python 3 (ipykernel)",
   "language": "python",
   "name": "python3"
  },
  "language_info": {
   "codemirror_mode": {
    "name": "ipython",
    "version": 3
   },
   "file_extension": ".py",
   "mimetype": "text/x-python",
   "name": "python",
   "nbconvert_exporter": "python",
   "pygments_lexer": "ipython3",
   "version": "3.11.5"
  }
 },
 "nbformat": 4,
 "nbformat_minor": 5
}
