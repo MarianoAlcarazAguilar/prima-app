{
 "cells": [
  {
   "cell_type": "markdown",
   "id": "bedfaaad-f21c-481f-bfea-1d75cfc61c5e",
   "metadata": {},
   "source": [
    "# Quotations in Salesforce\n",
    "Dado que ya en Ichigo se hará el quoting engine, ya no es necesario que la gente tenga más incentivos a cargar los datos pues será obligatorio. Lo que ahora necesitamos es una forma de integrar esto en Salesforce, por lo que voy a mandar los items que han quoteado los MPs a Salesforce a un nuevo objeto que voy a crear."
   ]
  },
  {
   "cell_type": "code",
   "execution_count": 1,
   "id": "78ad9b51-5797-4654-b45c-5f657d338460",
   "metadata": {
    "editable": false,
    "slideshow": {
     "slide_type": ""
    },
    "tags": []
   },
   "outputs": [],
   "source": [
    "import os\n",
    "import numpy as np\n",
    "import pandas as pd\n",
    "from datetime import datetime, timezone\n",
    "from my_apis.mb_connection import MetabaseConnection\n",
    "from my_apis.sheets_functions import SheetsFunctions\n",
    "from my_apis.sf_connection import SalesforceConnection, SalesforceFunctions"
   ]
  },
  {
   "cell_type": "code",
   "execution_count": 2,
   "id": "16ec2e17-4b2a-431b-acff-e8be7c1775e5",
   "metadata": {
    "editable": true,
    "slideshow": {
     "slide_type": ""
    },
    "tags": []
   },
   "outputs": [],
   "source": [
    "sf_credentials = '~/.keys/sf_credentials.json'\n",
    "mb_credentials = '~/.keys/mb_credentials.json'\n",
    "\n",
    "sfc = SalesforceConnection(os.path.expanduser(sf_credentials))\n",
    "mbc = MetabaseConnection(os.path.expanduser(mb_credentials))\n",
    "sff = SalesforceFunctions(sfc)"
   ]
  },
  {
   "cell_type": "markdown",
   "id": "899645c2-26e2-4c44-87ed-ff8987b890f0",
   "metadata": {
    "editable": true,
    "slideshow": {
     "slide_type": ""
    },
    "tags": []
   },
   "source": [
    "## Automation"
   ]
  },
  {
   "cell_type": "code",
   "execution_count": 3,
   "id": "5dc91ac8-4579-4edd-a9c2-73aac727fe06",
   "metadata": {},
   "outputs": [],
   "source": [
    "# Sacamos los items ya existentes en salesforce\n",
    "query = '''\n",
    "select Name\n",
    "from quoted_items__c\n",
    "'''\n",
    "sf_data = sfc.extract_data(query).rename({'Name':'name'}, axis=1).astype(int)"
   ]
  },
  {
   "cell_type": "code",
   "execution_count": 4,
   "id": "a7fa8b41-3728-4959-807c-f558de19822c",
   "metadata": {},
   "outputs": [],
   "source": [
    "# Sacamos los de metabase\n",
    "path = 'queries/quoted_items.sql'\n",
    "with open(path, 'r') as f:\n",
    "    query = f.read()\n",
    "items = mbc.query_more_data(query, 'name')"
   ]
  },
  {
   "cell_type": "code",
   "execution_count": 5,
   "id": "4a505d42-bff4-4853-a6da-affe1068d52b",
   "metadata": {},
   "outputs": [],
   "source": [
    "# Procesamos y limpiamos los datos\n",
    "upload_data = (\n",
    "    items\n",
    "    .merge(sf_data, on='name', how='outer', indicator=True)\n",
    "    .query('_merge == \"left_only\"')\n",
    "    .drop(['_merge'], axis=1)\n",
    "    .replace({np.NaN:None})\n",
    "    .replace({'target_price__c':0.0}, None)\n",
    "    .assign(item_name__c=lambda x: x.item_name__c.apply(lambda df: df[:255]))\n",
    ")"
   ]
  },
  {
   "cell_type": "code",
   "execution_count": 6,
   "id": "73f0ac64-f149-48b7-8b50-aa745fa6efb5",
   "metadata": {},
   "outputs": [
    {
     "name": "stdout",
     "output_type": "stream",
     "text": [
      "Malformed request https://primaoperaciones.my.salesforce.com/services/data/v57.0/sobjects/quoted_items__c/. Response content: [{'message': 'invalid cross reference id', 'errorCode': 'INVALID_CROSS_REFERENCE_KEY', 'fields': []}]\n"
     ]
    }
   ],
   "source": [
    "# Cargamos los cambios\n",
    "errors = sff.add_related_records(\n",
    "    df=upload_data,\n",
    "    add_type='quoted_items__c',\n",
    "    related_index_name='mp_account__c',\n",
    "    print_every=10\n",
    ")"
   ]
  },
  {
   "cell_type": "markdown",
   "id": "63c9d5c7-a67d-4284-ab35-186f86559afe",
   "metadata": {},
   "source": [
    "## Preparation"
   ]
  },
  {
   "cell_type": "markdown",
   "id": "2d846046-a8ee-4a6a-8583-d5b7964b7323",
   "metadata": {},
   "source": [
    "#### Un quote en salesforce tendrá la siguiente información,\n",
    "1. item_quote_id\n",
    "2. rfq_id\n",
    "3. rfq_name\n",
    "4. item_id (nombre del id)\n",
    "5. customer account (sf id del customer) (se cancela, solo pueden tener una account relacionada, no varias)\n",
    "6. pod\n",
    "7. main process\n",
    "8. quoted_currency\n",
    "9. quoted_price\n",
    "10. target_currency (if target_price != 0)\n",
    "11. target_price"
   ]
  },
  {
   "cell_type": "code",
   "execution_count": null,
   "id": "92f69ff8-e22c-49db-9988-89d15c9458d9",
   "metadata": {},
   "outputs": [],
   "source": [
    "path = 'queries/quoted_items.sql'\n",
    "with open(path, 'r') as f:\n",
    "    query = f.read()\n",
    "items = mbc.query_more_data(query, 'name')"
   ]
  },
  {
   "cell_type": "code",
   "execution_count": null,
   "id": "17c30d34-b3ca-49ff-bc49-f2a8b2a264a3",
   "metadata": {},
   "outputs": [],
   "source": [
    "# Un quote en salesforce tendrá la siguiente información:\n",
    "# Vamos a dar de alta los items en salesforce\n",
    "\n",
    "upload_data = (\n",
    "    items\n",
    "    .replace({np.NaN:None})\n",
    "    .replace({'target_price__c':0.0}, None)\n",
    ")"
   ]
  },
  {
   "cell_type": "code",
   "execution_count": null,
   "id": "5c8a1e4e-0e6a-4486-b436-a46c251a5707",
   "metadata": {
    "scrolled": true
   },
   "outputs": [],
   "source": [
    "errors = sff.add_related_records(\n",
    "    df=upload_data,\n",
    "    add_type='quoted_items__c',\n",
    "    related_index_name='mp_account__c',\n",
    "    print_every=10\n",
    ")"
   ]
  },
  {
   "cell_type": "code",
   "execution_count": null,
   "id": "1e00f1ca-0f6c-4789-808f-099d256e12ac",
   "metadata": {},
   "outputs": [],
   "source": []
  }
 ],
 "metadata": {
  "kernelspec": {
   "display_name": "Python 3 (ipykernel)",
   "language": "python",
   "name": "python3"
  },
  "language_info": {
   "codemirror_mode": {
    "name": "ipython",
    "version": 3
   },
   "file_extension": ".py",
   "mimetype": "text/x-python",
   "name": "python",
   "nbconvert_exporter": "python",
   "pygments_lexer": "ipython3",
   "version": "3.11.9"
  }
 },
 "nbformat": 4,
 "nbformat_minor": 5
}
