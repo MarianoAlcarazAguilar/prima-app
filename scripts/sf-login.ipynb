{
 "cells": [
  {
   "cell_type": "markdown",
   "id": "055b9b43-c887-4289-b1d0-c102eae5d163",
   "metadata": {},
   "source": [
    "# SF Login"
   ]
  },
  {
   "cell_type": "code",
   "execution_count": 1,
   "id": "bee13859-49fa-47ac-9b78-96a84a72037d",
   "metadata": {},
   "outputs": [],
   "source": [
    "from simple_salesforce import Salesforce, SFType, SalesforceLogin"
   ]
  },
  {
   "cell_type": "code",
   "execution_count": 8,
   "id": "1cdd0e8c-57c8-4322-9353-1e33101507f9",
   "metadata": {},
   "outputs": [],
   "source": [
    "credentials = {\n",
    "    \"security_token\":\"E6mvsSJATB6QD1grPibPuzUT\",\n",
    "    \"username\":\"crm@prima.ai\",\n",
    "    \"password\":\"4eVEsES3YDfgf68\",\n",
    "    \"domain\":\"login\"\n",
    "}"
   ]
  },
  {
   "cell_type": "code",
   "execution_count": 9,
   "id": "0d22ee4e-a949-4bab-b493-8bd78d24d1ea",
   "metadata": {},
   "outputs": [
    {
     "data": {
      "text/plain": [
       "('00D3t000005genG!AQEAQJdANTYf5oxNmMBGUSmnffRbwLECNJiA1_0Z9.yDoQsjHFeTZC7lXSUErFKWhHSOguNeL54Z9glHBIo.cKVQVHpQN3J8',\n",
       " 'primaoperaciones.my.salesforce.com')"
      ]
     },
     "execution_count": 9,
     "metadata": {},
     "output_type": "execute_result"
    }
   ],
   "source": [
    "SalesforceLogin(\n",
    "    **credentials\n",
    ")"
   ]
  },
  {
   "cell_type": "code",
   "execution_count": 5,
   "id": "10b2cb66-c1ce-45e7-a92a-62860e8695b6",
   "metadata": {},
   "outputs": [
    {
     "data": {
      "text/plain": [
       "True"
      ]
     },
     "execution_count": 5,
     "metadata": {},
     "output_type": "execute_result"
    }
   ],
   "source": [
    "'00D3t000005genG!AQEAQIwkmsWTLriRFrq8ENJLHlwuwLY8nZgit_5U2WCz53ykL6WFelMa2NdmneHxr7fBcU43p8uvAiYJXAW54nbM63gdQsqK' == '00D3t000005genG!AQEAQIwkmsWTLriRFrq8ENJLHlwuwLY8nZgit_5U2WCz53ykL6WFelMa2NdmneHxr7fBcU43p8uvAiYJXAW54nbM63gdQsqK'"
   ]
  },
  {
   "cell_type": "code",
   "execution_count": null,
   "id": "a1f1415e-2d8e-43da-a556-970159dc610b",
   "metadata": {},
   "outputs": [],
   "source": []
  }
 ],
 "metadata": {
  "kernelspec": {
   "display_name": "Python 3 (ipykernel)",
   "language": "python",
   "name": "python3"
  },
  "language_info": {
   "codemirror_mode": {
    "name": "ipython",
    "version": 3
   },
   "file_extension": ".py",
   "mimetype": "text/x-python",
   "name": "python",
   "nbconvert_exporter": "python",
   "pygments_lexer": "ipython3",
   "version": "3.11.5"
  }
 },
 "nbformat": 4,
 "nbformat_minor": 5
}
